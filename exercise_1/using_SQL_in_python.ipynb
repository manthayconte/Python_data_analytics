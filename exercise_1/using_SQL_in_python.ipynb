{
 "cells": [
  {
   "cell_type": "markdown",
   "id": "8dbbd24e",
   "metadata": {},
   "source": [
    "# Using SQL in Python"
   ]
  },
  {
   "cell_type": "code",
   "execution_count": null,
   "id": "cb96c446",
   "metadata": {},
   "outputs": [],
   "source": [
    "#installing packages\n",
    "!pip install -q -U pandas\n",
    "!pip install -q ipython-sql\n"
   ]
  },
  {
   "cell_type": "code",
   "execution_count": 1,
   "id": "6648e7e5",
   "metadata": {},
   "outputs": [],
   "source": [
    "#importing packages\n",
    "import pandas as pd\n",
    "import sqlite3\n",
    "import requests\n",
    "import io"
   ]
  },
  {
   "cell_type": "code",
   "execution_count": 2,
   "id": "0022649c",
   "metadata": {},
   "outputs": [],
   "source": [
    "#importing the dataset from Github repository\n",
    "\n",
    "url = 'https://raw.githubusercontent.com/manthayconte/python_for_data_analysis/main/exercise_1/dataset/diabetes.csv'\n",
    "download = requests.get(url).content\n",
    "\n",
    "df = pd.read_csv(io.StringIO(download.decode('utf-8')))"
   ]
  },
  {
   "cell_type": "code",
   "execution_count": 3,
   "id": "dcdb968b",
   "metadata": {},
   "outputs": [
    {
     "data": {
      "text/html": [
       "<div>\n",
       "<style scoped>\n",
       "    .dataframe tbody tr th:only-of-type {\n",
       "        vertical-align: middle;\n",
       "    }\n",
       "\n",
       "    .dataframe tbody tr th {\n",
       "        vertical-align: top;\n",
       "    }\n",
       "\n",
       "    .dataframe thead th {\n",
       "        text-align: right;\n",
       "    }\n",
       "</style>\n",
       "<table border=\"1\" class=\"dataframe\">\n",
       "  <thead>\n",
       "    <tr style=\"text-align: right;\">\n",
       "      <th></th>\n",
       "      <th>Pregnancies</th>\n",
       "      <th>Glucose</th>\n",
       "      <th>BloodPressure</th>\n",
       "      <th>SkinThickness</th>\n",
       "      <th>Insulin</th>\n",
       "      <th>BMI</th>\n",
       "      <th>DiabetesPedigreeFunction</th>\n",
       "      <th>Age</th>\n",
       "      <th>Outcome</th>\n",
       "    </tr>\n",
       "  </thead>\n",
       "  <tbody>\n",
       "    <tr>\n",
       "      <th>0</th>\n",
       "      <td>6</td>\n",
       "      <td>148</td>\n",
       "      <td>72</td>\n",
       "      <td>35</td>\n",
       "      <td>0</td>\n",
       "      <td>33.6</td>\n",
       "      <td>0.627</td>\n",
       "      <td>50</td>\n",
       "      <td>1</td>\n",
       "    </tr>\n",
       "    <tr>\n",
       "      <th>1</th>\n",
       "      <td>1</td>\n",
       "      <td>85</td>\n",
       "      <td>66</td>\n",
       "      <td>29</td>\n",
       "      <td>0</td>\n",
       "      <td>26.6</td>\n",
       "      <td>0.351</td>\n",
       "      <td>31</td>\n",
       "      <td>0</td>\n",
       "    </tr>\n",
       "    <tr>\n",
       "      <th>2</th>\n",
       "      <td>8</td>\n",
       "      <td>183</td>\n",
       "      <td>64</td>\n",
       "      <td>0</td>\n",
       "      <td>0</td>\n",
       "      <td>23.3</td>\n",
       "      <td>0.672</td>\n",
       "      <td>32</td>\n",
       "      <td>1</td>\n",
       "    </tr>\n",
       "    <tr>\n",
       "      <th>3</th>\n",
       "      <td>1</td>\n",
       "      <td>89</td>\n",
       "      <td>66</td>\n",
       "      <td>23</td>\n",
       "      <td>94</td>\n",
       "      <td>28.1</td>\n",
       "      <td>0.167</td>\n",
       "      <td>21</td>\n",
       "      <td>0</td>\n",
       "    </tr>\n",
       "    <tr>\n",
       "      <th>4</th>\n",
       "      <td>0</td>\n",
       "      <td>137</td>\n",
       "      <td>40</td>\n",
       "      <td>35</td>\n",
       "      <td>168</td>\n",
       "      <td>43.1</td>\n",
       "      <td>2.288</td>\n",
       "      <td>33</td>\n",
       "      <td>1</td>\n",
       "    </tr>\n",
       "  </tbody>\n",
       "</table>\n",
       "</div>"
      ],
      "text/plain": [
       "   Pregnancies  Glucose  BloodPressure  SkinThickness  Insulin   BMI  \\\n",
       "0            6      148             72             35        0  33.6   \n",
       "1            1       85             66             29        0  26.6   \n",
       "2            8      183             64              0        0  23.3   \n",
       "3            1       89             66             23       94  28.1   \n",
       "4            0      137             40             35      168  43.1   \n",
       "\n",
       "   DiabetesPedigreeFunction  Age  Outcome  \n",
       "0                     0.627   50        1  \n",
       "1                     0.351   31        0  \n",
       "2                     0.672   32        1  \n",
       "3                     0.167   21        0  \n",
       "4                     2.288   33        1  "
      ]
     },
     "execution_count": 3,
     "metadata": {},
     "output_type": "execute_result"
    }
   ],
   "source": [
    "#checking the dataset basic data\n",
    "df.head()"
   ]
  },
  {
   "cell_type": "code",
   "execution_count": 4,
   "id": "92e581cc",
   "metadata": {},
   "outputs": [
    {
     "data": {
      "text/plain": [
       "(768, 9)"
      ]
     },
     "execution_count": 4,
     "metadata": {},
     "output_type": "execute_result"
    }
   ],
   "source": [
    "#the dataset has 768 observations and 9 variables\n",
    "df.shape"
   ]
  },
  {
   "cell_type": "code",
   "execution_count": null,
   "id": "efc3c5f5",
   "metadata": {},
   "outputs": [],
   "source": [
    "#if you want to download the database from GitHub:\n",
    "#url = 'https://github.com/manthayconte/python_for_data_analysis/tree/main/exercise_1/database/dbprojeto1.db'\n",
    "#urllib.request.urlretrieve(url, 'dbprojeto1.db')"
   ]
  },
  {
   "cell_type": "code",
   "execution_count": 5,
   "id": "f07f008f",
   "metadata": {},
   "outputs": [],
   "source": [
    "#creating a connection to a SQLite database\n",
    "cnn = sqlite3.connect('/Users/gabrielconte/Documents/GitHub/Python_data_analytics/exercise_1/database/dbprojeto1.db')"
   ]
  },
  {
   "cell_type": "code",
   "execution_count": 6,
   "id": "22668c47",
   "metadata": {},
   "outputs": [
    {
     "data": {
      "text/plain": [
       "768"
      ]
     },
     "execution_count": 6,
     "metadata": {},
     "output_type": "execute_result"
    }
   ],
   "source": [
    "#write the dataFrame to the database as a table\n",
    "df.to_sql('diabetes', cnn, if_exists = 'replace')"
   ]
  },
  {
   "cell_type": "code",
   "execution_count": 7,
   "id": "9a536fe1",
   "metadata": {},
   "outputs": [],
   "source": [
    "#loading the SQL extension \n",
    "%load_ext sql"
   ]
  },
  {
   "cell_type": "code",
   "execution_count": 17,
   "id": "f4b20f61",
   "metadata": {
    "scrolled": true
   },
   "outputs": [],
   "source": [
    "#defining the database\n",
    "%sql sqlite:////Users/gabrielconte/Documents/GitHub/Python_data_analytics/exercise_1/database/dbprojeto1.db\n"
   ]
  },
  {
   "cell_type": "code",
   "execution_count": 19,
   "id": "98ddca8c",
   "metadata": {},
   "outputs": [
    {
     "name": "stdout",
     "output_type": "stream",
     "text": [
      " * sqlite:////Users/gabrielconte/Documents/GitHub/Python_data_analytics/exercise_1/database/dbprojeto1.db\n",
      "   sqlite:///database/dbprojeto1.db\n",
      "Done.\n"
     ]
    },
    {
     "data": {
      "text/html": [
       "<table>\n",
       "    <tr>\n",
       "        <th>contagem</th>\n",
       "    </tr>\n",
       "    <tr>\n",
       "        <td>768</td>\n",
       "    </tr>\n",
       "</table>"
      ],
      "text/plain": [
       "[(768,)]"
      ]
     },
     "execution_count": 19,
     "metadata": {},
     "output_type": "execute_result"
    }
   ],
   "source": [
    "#checking the observations number\n",
    "%%sql\n",
    "\n",
    "SELECT count(*) as contagem\n",
    "\n",
    "FROM diabetes"
   ]
  },
  {
   "cell_type": "code",
   "execution_count": 34,
   "id": "966b8954",
   "metadata": {},
   "outputs": [
    {
     "name": "stdout",
     "output_type": "stream",
     "text": [
      " * sqlite:////Users/gabrielconte/Documents/GitHub/Python_data_analytics/exercise_1/database/dbprojeto1.db\n",
      "   sqlite:///database/dbprojeto1.db\n",
      "Done.\n"
     ]
    },
    {
     "data": {
      "text/html": [
       "<table>\n",
       "    <tr>\n",
       "        <th>index</th>\n",
       "        <th>Pregnancies</th>\n",
       "        <th>Glucose</th>\n",
       "        <th>BloodPressure</th>\n",
       "        <th>SkinThickness</th>\n",
       "        <th>Insulin</th>\n",
       "        <th>BMI</th>\n",
       "        <th>DiabetesPedigreeFunction</th>\n",
       "        <th>Age</th>\n",
       "        <th>Outcome</th>\n",
       "    </tr>\n",
       "    <tr>\n",
       "        <td>0</td>\n",
       "        <td>6</td>\n",
       "        <td>148</td>\n",
       "        <td>72</td>\n",
       "        <td>35</td>\n",
       "        <td>0</td>\n",
       "        <td>33.6</td>\n",
       "        <td>0.627</td>\n",
       "        <td>50</td>\n",
       "        <td>1</td>\n",
       "    </tr>\n",
       "    <tr>\n",
       "        <td>1</td>\n",
       "        <td>1</td>\n",
       "        <td>85</td>\n",
       "        <td>66</td>\n",
       "        <td>29</td>\n",
       "        <td>0</td>\n",
       "        <td>26.6</td>\n",
       "        <td>0.351</td>\n",
       "        <td>31</td>\n",
       "        <td>0</td>\n",
       "    </tr>\n",
       "    <tr>\n",
       "        <td>2</td>\n",
       "        <td>8</td>\n",
       "        <td>183</td>\n",
       "        <td>64</td>\n",
       "        <td>0</td>\n",
       "        <td>0</td>\n",
       "        <td>23.3</td>\n",
       "        <td>0.672</td>\n",
       "        <td>32</td>\n",
       "        <td>1</td>\n",
       "    </tr>\n",
       "    <tr>\n",
       "        <td>3</td>\n",
       "        <td>1</td>\n",
       "        <td>89</td>\n",
       "        <td>66</td>\n",
       "        <td>23</td>\n",
       "        <td>94</td>\n",
       "        <td>28.1</td>\n",
       "        <td>0.167</td>\n",
       "        <td>21</td>\n",
       "        <td>0</td>\n",
       "    </tr>\n",
       "    <tr>\n",
       "        <td>4</td>\n",
       "        <td>0</td>\n",
       "        <td>137</td>\n",
       "        <td>40</td>\n",
       "        <td>35</td>\n",
       "        <td>168</td>\n",
       "        <td>43.1</td>\n",
       "        <td>2.288</td>\n",
       "        <td>33</td>\n",
       "        <td>1</td>\n",
       "    </tr>\n",
       "</table>"
      ],
      "text/plain": [
       "[(0, 6, 148, 72, 35, 0, 33.6, 0.627, 50, 1),\n",
       " (1, 1, 85, 66, 29, 0, 26.6, 0.351, 31, 0),\n",
       " (2, 8, 183, 64, 0, 0, 23.3, 0.672, 32, 1),\n",
       " (3, 1, 89, 66, 23, 94, 28.1, 0.167, 21, 0),\n",
       " (4, 0, 137, 40, 35, 168, 43.1, 2.288, 33, 1)]"
      ]
     },
     "execution_count": 34,
     "metadata": {},
     "output_type": "execute_result"
    }
   ],
   "source": [
    "%%sql\n",
    "\n",
    "SELECT * FROM diabetes LIMIT 5"
   ]
  },
  {
   "cell_type": "code",
   "execution_count": 40,
   "id": "d3710084",
   "metadata": {},
   "outputs": [
    {
     "name": "stdout",
     "output_type": "stream",
     "text": [
      " * sqlite:////Users/gabrielconte/Documents/GitHub/Python_data_analytics/exercise_1/database/dbprojeto1.db\n",
      "   sqlite:///database/dbprojeto1.db\n",
      "Done.\n"
     ]
    },
    {
     "data": {
      "text/plain": [
       "[]"
      ]
     },
     "execution_count": 40,
     "metadata": {},
     "output_type": "execute_result"
    }
   ],
   "source": [
    "#adding a column to categorize the Age \n",
    "%%sql\n",
    "\n",
    "ALTER TABLE diabetes\n",
    "ADD age_group VARCHAR(20)"
   ]
  },
  {
   "cell_type": "code",
   "execution_count": 42,
   "id": "9fd3292d",
   "metadata": {},
   "outputs": [
    {
     "name": "stdout",
     "output_type": "stream",
     "text": [
      " * sqlite:////Users/gabrielconte/Documents/GitHub/Python_data_analytics/exercise_1/database/dbprojeto1.db\n",
      "   sqlite:///database/dbprojeto1.db\n",
      "768 rows affected.\n"
     ]
    },
    {
     "data": {
      "text/plain": [
       "[]"
      ]
     },
     "execution_count": 42,
     "metadata": {},
     "output_type": "execute_result"
    }
   ],
   "source": [
    "#adding the categorized information in age_group\n",
    "%%sql\n",
    "UPDATE diabetes\n",
    "SET age_group = (CASE\n",
    "    WHEN Age < 20 THEN 'LESS THEN 20'\n",
    "    WHEN Age >= 20 AND Age < 30 THEN 'BETWEEN 20 AND 30'\n",
    "    WHEN Age >= 30 AND Age < 40 THEN 'BETWEEN 30 AND 40'\n",
    "    WHEN Age >= 40 AND Age <= 50 THEN 'BETWEEN 40 AND 50'\n",
    "    WHEN Age > 50 THEN 'MORE THEN 50'\n",
    "  END)"
   ]
  },
  {
   "cell_type": "code",
   "execution_count": 44,
   "id": "eff6e9ae",
   "metadata": {},
   "outputs": [
    {
     "name": "stdout",
     "output_type": "stream",
     "text": [
      " * sqlite:////Users/gabrielconte/Documents/GitHub/Python_data_analytics/exercise_1/database/dbprojeto1.db\n",
      "   sqlite:///database/dbprojeto1.db\n",
      "Done.\n"
     ]
    },
    {
     "data": {
      "text/html": [
       "<table>\n",
       "    <tr>\n",
       "        <th>index</th>\n",
       "        <th>Pregnancies</th>\n",
       "        <th>Glucose</th>\n",
       "        <th>BloodPressure</th>\n",
       "        <th>SkinThickness</th>\n",
       "        <th>Insulin</th>\n",
       "        <th>BMI</th>\n",
       "        <th>DiabetesPedigreeFunction</th>\n",
       "        <th>Age</th>\n",
       "        <th>Outcome</th>\n",
       "        <th>age_group</th>\n",
       "    </tr>\n",
       "    <tr>\n",
       "        <td>0</td>\n",
       "        <td>6</td>\n",
       "        <td>148</td>\n",
       "        <td>72</td>\n",
       "        <td>35</td>\n",
       "        <td>0</td>\n",
       "        <td>33.6</td>\n",
       "        <td>0.627</td>\n",
       "        <td>50</td>\n",
       "        <td>1</td>\n",
       "        <td>BETWEEN 40 AND 50</td>\n",
       "    </tr>\n",
       "    <tr>\n",
       "        <td>1</td>\n",
       "        <td>1</td>\n",
       "        <td>85</td>\n",
       "        <td>66</td>\n",
       "        <td>29</td>\n",
       "        <td>0</td>\n",
       "        <td>26.6</td>\n",
       "        <td>0.351</td>\n",
       "        <td>31</td>\n",
       "        <td>0</td>\n",
       "        <td>BETWEEN 30 AND 40</td>\n",
       "    </tr>\n",
       "    <tr>\n",
       "        <td>2</td>\n",
       "        <td>8</td>\n",
       "        <td>183</td>\n",
       "        <td>64</td>\n",
       "        <td>0</td>\n",
       "        <td>0</td>\n",
       "        <td>23.3</td>\n",
       "        <td>0.672</td>\n",
       "        <td>32</td>\n",
       "        <td>1</td>\n",
       "        <td>BETWEEN 30 AND 40</td>\n",
       "    </tr>\n",
       "    <tr>\n",
       "        <td>3</td>\n",
       "        <td>1</td>\n",
       "        <td>89</td>\n",
       "        <td>66</td>\n",
       "        <td>23</td>\n",
       "        <td>94</td>\n",
       "        <td>28.1</td>\n",
       "        <td>0.167</td>\n",
       "        <td>21</td>\n",
       "        <td>0</td>\n",
       "        <td>BETWEEN 20 AND 30</td>\n",
       "    </tr>\n",
       "    <tr>\n",
       "        <td>4</td>\n",
       "        <td>0</td>\n",
       "        <td>137</td>\n",
       "        <td>40</td>\n",
       "        <td>35</td>\n",
       "        <td>168</td>\n",
       "        <td>43.1</td>\n",
       "        <td>2.288</td>\n",
       "        <td>33</td>\n",
       "        <td>1</td>\n",
       "        <td>BETWEEN 30 AND 40</td>\n",
       "    </tr>\n",
       "</table>"
      ],
      "text/plain": [
       "[(0, 6, 148, 72, 35, 0, 33.6, 0.627, 50, 1, 'BETWEEN 40 AND 50'),\n",
       " (1, 1, 85, 66, 29, 0, 26.6, 0.351, 31, 0, 'BETWEEN 30 AND 40'),\n",
       " (2, 8, 183, 64, 0, 0, 23.3, 0.672, 32, 1, 'BETWEEN 30 AND 40'),\n",
       " (3, 1, 89, 66, 23, 94, 28.1, 0.167, 21, 0, 'BETWEEN 20 AND 30'),\n",
       " (4, 0, 137, 40, 35, 168, 43.1, 2.288, 33, 1, 'BETWEEN 30 AND 40')]"
      ]
     },
     "execution_count": 44,
     "metadata": {},
     "output_type": "execute_result"
    }
   ],
   "source": [
    "#checking the new column\n",
    "%%sql\n",
    "\n",
    "SELECT * FROM diabetes LIMIT(5)"
   ]
  },
  {
   "cell_type": "code",
   "execution_count": 73,
   "id": "ba13a22e",
   "metadata": {
    "scrolled": true
   },
   "outputs": [
    {
     "name": "stdout",
     "output_type": "stream",
     "text": [
      " * sqlite:////Users/gabrielconte/Documents/GitHub/Python_data_analytics/exercise_1/database/dbprojeto1.db\n",
      "   sqlite:///database/dbprojeto1.db\n",
      "Done.\n"
     ]
    },
    {
     "data": {
      "text/html": [
       "<table>\n",
       "    <tr>\n",
       "        <th>diabetes</th>\n",
       "        <th>age_group</th>\n",
       "        <th>AVG_glucose</th>\n",
       "        <th>MAX_glucose</th>\n",
       "        <th>MIN_glucose</th>\n",
       "        <th>AVG_bloodPressure</th>\n",
       "        <th>MAX_bloodPressure</th>\n",
       "        <th>MIN_bloodPressure</th>\n",
       "        <th>AVG_bmi</th>\n",
       "        <th>MAX_bmi</th>\n",
       "        <th>MIN_bmi</th>\n",
       "    </tr>\n",
       "    <tr>\n",
       "        <td>NO</td>\n",
       "        <td>BETWEEN 20 AND 30</td>\n",
       "        <td>107.0</td>\n",
       "        <td>193</td>\n",
       "        <td>0</td>\n",
       "        <td>65.0</td>\n",
       "        <td>122</td>\n",
       "        <td>0</td>\n",
       "        <td>30.0</td>\n",
       "        <td>57.3</td>\n",
       "        <td>0.0</td>\n",
       "    </tr>\n",
       "    <tr>\n",
       "        <td>YES</td>\n",
       "        <td>BETWEEN 20 AND 30</td>\n",
       "        <td>141.0</td>\n",
       "        <td>199</td>\n",
       "        <td>78</td>\n",
       "        <td>65.0</td>\n",
       "        <td>110</td>\n",
       "        <td>0</td>\n",
       "        <td>37.0</td>\n",
       "        <td>67.1</td>\n",
       "        <td>22.9</td>\n",
       "    </tr>\n",
       "    <tr>\n",
       "        <td>NO</td>\n",
       "        <td>BETWEEN 30 AND 40</td>\n",
       "        <td>113.0</td>\n",
       "        <td>197</td>\n",
       "        <td>44</td>\n",
       "        <td>71.0</td>\n",
       "        <td>110</td>\n",
       "        <td>0</td>\n",
       "        <td>31.0</td>\n",
       "        <td>46.8</td>\n",
       "        <td>19.3</td>\n",
       "    </tr>\n",
       "    <tr>\n",
       "        <td>YES</td>\n",
       "        <td>BETWEEN 30 AND 40</td>\n",
       "        <td>139.0</td>\n",
       "        <td>197</td>\n",
       "        <td>0</td>\n",
       "        <td>68.0</td>\n",
       "        <td>108</td>\n",
       "        <td>0</td>\n",
       "        <td>34.0</td>\n",
       "        <td>50.0</td>\n",
       "        <td>0.0</td>\n",
       "    </tr>\n",
       "    <tr>\n",
       "        <td>NO</td>\n",
       "        <td>BETWEEN 40 AND 50</td>\n",
       "        <td>111.0</td>\n",
       "        <td>183</td>\n",
       "        <td>57</td>\n",
       "        <td>74.0</td>\n",
       "        <td>106</td>\n",
       "        <td>0</td>\n",
       "        <td>33.0</td>\n",
       "        <td>46.7</td>\n",
       "        <td>20.8</td>\n",
       "    </tr>\n",
       "    <tr>\n",
       "        <td>YES</td>\n",
       "        <td>BETWEEN 40 AND 50</td>\n",
       "        <td>137.0</td>\n",
       "        <td>196</td>\n",
       "        <td>0</td>\n",
       "        <td>75.0</td>\n",
       "        <td>114</td>\n",
       "        <td>0</td>\n",
       "        <td>35.0</td>\n",
       "        <td>52.3</td>\n",
       "        <td>24.3</td>\n",
       "    </tr>\n",
       "    <tr>\n",
       "        <td>NO</td>\n",
       "        <td>MORE THEN 50</td>\n",
       "        <td>127.0</td>\n",
       "        <td>194</td>\n",
       "        <td>57</td>\n",
       "        <td>76.0</td>\n",
       "        <td>108</td>\n",
       "        <td>0</td>\n",
       "        <td>28.0</td>\n",
       "        <td>46.5</td>\n",
       "        <td>0.0</td>\n",
       "    </tr>\n",
       "    <tr>\n",
       "        <td>YES</td>\n",
       "        <td>MORE THEN 50</td>\n",
       "        <td>154.0</td>\n",
       "        <td>197</td>\n",
       "        <td>90</td>\n",
       "        <td>81.0</td>\n",
       "        <td>110</td>\n",
       "        <td>60</td>\n",
       "        <td>32.0</td>\n",
       "        <td>45.4</td>\n",
       "        <td>0.0</td>\n",
       "    </tr>\n",
       "</table>"
      ],
      "text/plain": [
       "[('NO', 'BETWEEN 20 AND 30', 107.0, 193, 0, 65.0, 122, 0, 30.0, 57.3, 0.0),\n",
       " ('YES', 'BETWEEN 20 AND 30', 141.0, 199, 78, 65.0, 110, 0, 37.0, 67.1, 22.9),\n",
       " ('NO', 'BETWEEN 30 AND 40', 113.0, 197, 44, 71.0, 110, 0, 31.0, 46.8, 19.3),\n",
       " ('YES', 'BETWEEN 30 AND 40', 139.0, 197, 0, 68.0, 108, 0, 34.0, 50.0, 0.0),\n",
       " ('NO', 'BETWEEN 40 AND 50', 111.0, 183, 57, 74.0, 106, 0, 33.0, 46.7, 20.8),\n",
       " ('YES', 'BETWEEN 40 AND 50', 137.0, 196, 0, 75.0, 114, 0, 35.0, 52.3, 24.3),\n",
       " ('NO', 'MORE THEN 50', 127.0, 194, 57, 76.0, 108, 0, 28.0, 46.5, 0.0),\n",
       " ('YES', 'MORE THEN 50', 154.0, 197, 90, 81.0, 110, 60, 32.0, 45.4, 0.0)]"
      ]
     },
     "execution_count": 73,
     "metadata": {},
     "output_type": "execute_result"
    }
   ],
   "source": [
    "#descriptive analysis using categorized age_group\n",
    "%%sql\n",
    "SELECT\n",
    "    CASE WHEN Outcome = 0 THEN 'NO' ELSE 'YES' END as 'diabetes',\n",
    "    age_group,\n",
    "    ROUND(AVG(Glucose),0) as 'AVG_glucose',\n",
    "    MAX(Glucose) as 'MAX_glucose',\n",
    "    MIN(Glucose) as 'MIN_glucose',\n",
    "    ROUND(AVG(BloodPressure),0) as 'AVG_bloodPressure',\n",
    "    MAX(BloodPressure) as 'MAX_bloodPressure',\n",
    "    MIN(BloodPressure) as 'MIN_bloodPressure',\n",
    "    ROUND(AVG(BMI),0) as 'AVG_bmi',\n",
    "    MAX(BMI) as 'MAX_bmi',\n",
    "    MIN(BMI) as 'MIN_bmi'\n",
    "FROM diabetes \n",
    "GROUP BY age_group, Outcome"
   ]
  },
  {
   "cell_type": "code",
   "execution_count": 75,
   "id": "6a2b97f7",
   "metadata": {},
   "outputs": [],
   "source": [
    "# Results show that glucose average is a significant factor in determining diabetes across all age groups.\n",
    "\n",
    "# The blood pressure doesn't appear to play a significant role in determining diabetes in the analyzed data.\n",
    "\n",
    "# The BMI factor has more significance in determining diabetes in people aged 20-30, but outliers like zero BMI should be checked."
   ]
  },
  {
   "cell_type": "code",
   "execution_count": null,
   "id": "11b57495",
   "metadata": {},
   "outputs": [],
   "source": []
  }
 ],
 "metadata": {
  "kernelspec": {
   "display_name": "Python 3 (ipykernel)",
   "language": "python",
   "name": "python3"
  },
  "language_info": {
   "codemirror_mode": {
    "name": "ipython",
    "version": 3
   },
   "file_extension": ".py",
   "mimetype": "text/x-python",
   "name": "python",
   "nbconvert_exporter": "python",
   "pygments_lexer": "ipython3",
   "version": "3.9.13"
  }
 },
 "nbformat": 4,
 "nbformat_minor": 5
}
